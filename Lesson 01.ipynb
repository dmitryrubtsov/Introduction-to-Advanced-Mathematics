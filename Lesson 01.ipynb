{
 "cells": [
  {
   "cell_type": "markdown",
   "metadata": {},
   "source": [
    "# Lesson 1"
   ]
  },
  {
   "cell_type": "markdown",
   "metadata": {},
   "source": [
    "## Задание 1.\n",
    " Вычислите:\n",
    " \n",
    "$7 \\times $\n",
    "$\\begin{bmatrix} \n",
    "5 & 10 \\\\\n",
    "7 & 12 \\\\\n",
    "11.3 & 5 \\\\\n",
    "25 & 30\n",
    "\\end{bmatrix}$\n",
    "$+2 \\times$ \n",
    "$\\begin{bmatrix} \n",
    "5 & 10 \\\\\n",
    "7 & 12 \\\\\n",
    "11.3 & 5 \\\\\n",
    "25 & 30\n",
    "\\end{bmatrix}$\n",
    "$=$\n",
    "$\\begin{bmatrix}\n",
    "45 & 90 \\\\\n",
    "63 & 108 \\\\\n",
    "101.7 & 45 \\\\\n",
    "225 & 270\n",
    "\\end{bmatrix}\n",
    "$"
   ]
  },
  {
   "cell_type": "markdown",
   "metadata": {},
   "source": [
    "## Задание 2.\n",
    "### Задание 2.1\n",
    "Решите систему уравнений:  \n",
    "$\n",
    "\\left\\{\n",
    "\\begin{array}{l}\n",
    "3x - 2y + 5z = 7 \\\\\n",
    "7x + 4y - 8z = 3 \\\\\n",
    "5x - 3y - 4z = -12\n",
    "\\end{array}\n",
    "\\right.\n",
    "$\n",
    "\n",
    "Линейная или нелинейная это система?  \n",
    "А каждое уравнение по отдельности?"
   ]
  },
  {
   "cell_type": "markdown",
   "metadata": {},
   "source": [
    "Метод Крамера\n",
    "\n",
    "$\n",
    "\\begin{bmatrix}\n",
    "3 & -2 & 5 \\\\\n",
    "7 & 4 & -8 \\\\\n",
    "5 & -3 & -4\n",
    "\\end{bmatrix}\n",
    "$  \n",
    "\n",
    "$\\Delta = 3 \\bullet 4\\bullet (-4) + (-2)\\bullet(-8)\\bullet5 + 5\\bullet7\\bullet(-3) -5\\bullet4\\bullet5 - (-2)\\bullet7 \\bullet (-4) -3\\bullet(-8)\\bullet(-3) = -301$\n",
    "\n",
    "$\n",
    "\\begin{bmatrix}\n",
    "7 & -2 & 5 \\\\\n",
    "3 & 4 & -8 \\\\\n",
    "-12 & -3 & -4\n",
    "\\end{bmatrix}\n",
    "$\n",
    "\n",
    "$\\Delta_1 = 7\\bullet4\\bullet(-4) + (-2)\\bullet(-8)\\bullet(-12) +5\\bullet3\\bullet(-3)-5\\bullet4\\bullet(-12)-(-2)\\bullet3\\bullet(-4)-7\\bullet(-8)\\bullet(-3) = -301$\n",
    "\n",
    "$\n",
    "\\begin{bmatrix}\n",
    "3 & 7 & 5 \\\\\n",
    "7 & 3 & -8 \\\\\n",
    "5 & -12 & -4\n",
    "\\end{bmatrix}\n",
    "$\n",
    "\n",
    "$\\Delta_2= 3\\bullet3\\bullet(-4)+7\\bullet(-8)\\bullet5 + 5\\bullet7\\bullet(-12)-5\\bullet3\\bullet5-7\\bullet7\\bullet(-4)-3\\bullet(-8)\\bullet(-12)=-903$\n",
    "\n",
    "$\n",
    "\\begin{bmatrix}\n",
    "3 & -2 & 7 \\\\\n",
    "7 & 4 & 3 \\\\\n",
    "5 & -3 & -12\n",
    "\\end{bmatrix}\n",
    "$\n",
    "\n",
    "$\\Delta_3 = 3\\bullet4\\bullet(-12)+(-2)\\bullet3\\bullet5+7\\bullet7\\bullet(-3)-7\\bullet4\\bullet5-(-2)\\bullet7\\bullet(-12)-3\\bullet3\\bullet(-3)=-602$\n",
    "\n",
    "$ x = \\frac{\\Delta_1}{\\Delta} = \\frac{-301}{-301}=1$  \n",
    "\n",
    "$ y = \\frac{\\Delta_2}{\\Delta} = \\frac{-903}{-301}=3$  \n",
    "\n",
    "$ z = \\frac{\\Delta_3}{\\Delta} = \\frac{-602}{-301}=2$"
   ]
  },
  {
   "cell_type": "markdown",
   "metadata": {},
   "source": [
    "Это линейная система уравнений. Так как уравнения входящие в систему уравнений - линейные (первого порядка)."
   ]
  },
  {
   "cell_type": "markdown",
   "metadata": {},
   "source": [
    "### Задание 2.1\n",
    "Решите систему уравнений:  \n",
    "$\n",
    "\\left\\{\n",
    "\\begin{array}{l}\n",
    "x^2 + yx - 9 = 0  \\\\\n",
    "x - \\frac{y}{5} = 0\n",
    "\\end{array}\n",
    "\\right.\n",
    "$\n",
    "\n",
    "Линейная или нелинейная это система?  \n",
    "А каждое уравнение по отдельности?"
   ]
  },
  {
   "cell_type": "markdown",
   "metadata": {},
   "source": [
    "$\n",
    "\\left\\{\n",
    "\\begin{array}{l}\n",
    "x^2 + (5x)\\bullet x - 9 = 0  \\\\\n",
    "y = 5x\n",
    "\\end{array}\n",
    "\\right.\n",
    "$\n",
    "\n",
    "$\n",
    "\\left\\{\n",
    "\\begin{array}{l}\n",
    "x^2 + 5x^2 - 9 = 0  \\\\\n",
    "y = 5x\n",
    "\\end{array}\n",
    "\\right.\n",
    "$\n",
    "\n",
    "$\n",
    "\\left\\{\n",
    "\\begin{array}{l}\n",
    "6x^2 = 9 \\\\\n",
    "y = 5x\n",
    "\\end{array}\n",
    "\\right.\n",
    "$\n",
    "\n",
    "$\n",
    "\\left\\{\n",
    "\\begin{array}{l}\n",
    "x^2 = \\frac{3}{2} \\\\\n",
    "y = 5x\n",
    "\\end{array}\n",
    "\\right.\n",
    "$\n",
    "\n",
    "$\n",
    "\\left\\{\n",
    "\\begin{array}{l}\n",
    "x = \\pm\\sqrt \\frac{3}{2} \\\\\n",
    "y = \\pm5\\sqrt \\frac{3}{2}\n",
    "\\end{array}\n",
    "\\right.\n",
    "$"
   ]
  },
  {
   "cell_type": "markdown",
   "metadata": {},
   "source": [
    "Это нелинейная система уравнений. Так как уравнения входящие в систему уравнений:одно - линейное $x - \\frac{y}{5} = 0$ (первого порядка), а второе $x^2 + yx - 9 = 0$ - нет (второго порядка)."
   ]
  },
  {
   "cell_type": "markdown",
   "metadata": {},
   "source": [
    "## Задание 3\n",
    "Площадь пола прямоугольной комнаты равна 48 $м^2$,а его периметр равен 28 $м$. Найдите длину и ширину комнаты."
   ]
  },
  {
   "cell_type": "markdown",
   "metadata": {},
   "source": [
    "$\n",
    "\\left\\{\n",
    "\\begin{array}{l}\n",
    "2(a + b) = 28 \\\\\n",
    "a \\times b = 48\n",
    "\\end{array}\n",
    "\\right.  \n",
    "$\n",
    "\n",
    "$ \n",
    "\\left\\{\n",
    "\\begin{array}{l}\n",
    "a + b = 14 \\\\\n",
    "a \\times b = 48\n",
    "\\end{array}\n",
    "\\right.  \n",
    "$\n",
    "\n",
    "$\n",
    "\\left\\{\n",
    "\\begin{array}{l}\n",
    "a = 14 - b \\\\\n",
    "(14 - b) \\times b = 48\n",
    "\\end{array}\n",
    "\\right.  \n",
    "$\n",
    "\n",
    "$\n",
    "\\left\\{\n",
    "\\begin{array}{l}\n",
    "a = 14 - b \\\\\n",
    "b^2 - 14b +48 = 0\n",
    "\\end{array}\n",
    "\\right.  \n",
    "$  \n",
    "\n",
    "$b_{1,2} = \\frac{14 \\pm \\sqrt{14^2-4 \\bullet 1 \\bullet 48}}{2} = \\frac{14 \\pm 2}{2} = 7 \\pm 1$  \n",
    "$b_1 = 6$  \n",
    "$b_2 = 8$\n",
    "\n",
    "$\n",
    "\\left\\{\n",
    "\\begin{array}{l}\n",
    "a = 6 \\\\\n",
    "b = 8\n",
    "\\end{array}\n",
    "\\right.  \n",
    "$ или \n",
    "$\n",
    "\\left\\{\n",
    "\\begin{array}{l}\n",
    "a = 8 \\\\\n",
    "b = 6\n",
    "\\end{array}\n",
    "\\right.  \n",
    "$  "
   ]
  },
  {
   "cell_type": "markdown",
   "metadata": {},
   "source": [
    "## Задание 4\n",
    "Постройте на одном графике две кривые y(x) для функции двух переменной y(k,x)=cos(k∙x), взяв для одной кривой значение k=1, а для другой – любое другое k, не равное 1."
   ]
  },
  {
   "cell_type": "code",
   "execution_count": 1,
   "metadata": {},
   "outputs": [],
   "source": [
    "import numpy as np\n",
    "import matplotlib.pyplot as plt\n",
    "%matplotlib inline"
   ]
  },
  {
   "cell_type": "code",
   "execution_count": 2,
   "metadata": {},
   "outputs": [
    {
     "data": {
      "text/plain": [
       "<matplotlib.legend.Legend at 0x7f31454c1208>"
      ]
     },
     "execution_count": 2,
     "metadata": {},
     "output_type": "execute_result"
    },
    {
     "data": {
      "image/png": "[encoded data removed]",
      "text/plain": [
       "<Figure size 432x288 with 1 Axes>"
      ]
     },
     "metadata": {
      "needs_background": "light"
     },
     "output_type": "display_data"
    }
   ],
   "source": [
    "x = np.linspace(-15, 15, 100)\n",
    "k = 1\n",
    "y = np.cos(k * x)\n",
    "k1 = 3\n",
    "y1 = np.cos(k1 * x)\n",
    "plt.plot(x, y, label=f'y = cos(x)')\n",
    "plt.plot(x, y1, label=f'y = cos(2x)')\n",
    "plt.legend(loc=1)"
   ]
  }
 ],
 "metadata": {
  "kernelspec": {
   "display_name": "Python 3",
   "language": "python",
   "name": "python3"
  },
  "language_info": {
   "codemirror_mode": {
    "name": "ipython",
    "version": 3
   },
   "file_extension": ".py",
   "mimetype": "text/x-python",
   "name": "python",
   "nbconvert_exporter": "python",
   "pygments_lexer": "ipython3",
   "version": "3.7.3"
  },
  "toc": {
   "base_numbering": 1,
   "nav_menu": {},
   "number_sections": true,
   "sideBar": true,
   "skip_h1_title": false,
   "title_cell": "Table of Contents",
   "title_sidebar": "Contents",
   "toc_cell": false,
   "toc_position": {},
   "toc_section_display": true,
   "toc_window_display": false
  }
 },
 "nbformat": 4,
 "nbformat_minor": 2
}
